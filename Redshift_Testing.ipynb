{
  "nbformat": 4,
  "nbformat_minor": 0,
  "metadata": {
    "colab": {
      "name": "Redshift Testing",
      "provenance": [],
      "collapsed_sections": [],
      "include_colab_link": true
    },
    "kernelspec": {
      "name": "python3",
      "display_name": "Python 3"
    }
  },
  "cells": [
    {
      "cell_type": "markdown",
      "metadata": {
        "id": "view-in-github",
        "colab_type": "text"
      },
      "source": [
        "<a href=\"https://colab.research.google.com/github/jysohn0825/prgrms_data_eng/blob/master/Redshift_Testing.ipynb\" target=\"_parent\"><img src=\"https://colab.research.google.com/assets/colab-badge.svg\" alt=\"Open In Colab\"/></a>"
      ]
    },
    {
      "cell_type": "code",
      "metadata": {
        "id": "ePY_5ad7CYtR",
        "colab_type": "code",
        "colab": {
          "base_uri": "https://localhost:8080/",
          "height": 72
        },
        "outputId": "1736bf54-81fc-4793-a773-9d61bd94d278"
      },
      "source": [
        "import psycopg2 #redshift 조작을 위한 모듈"
      ],
      "execution_count": 1,
      "outputs": [
        {
          "output_type": "stream",
          "text": [
            "/usr/local/lib/python3.6/dist-packages/psycopg2/__init__.py:144: UserWarning: The psycopg2 wheel package will be renamed from release 2.8; in order to keep installing from binary please use \"pip install psycopg2-binary\" instead. For details see: <http://initd.org/psycopg/docs/install.html#binary-install-from-pypi>.\n",
            "  \"\"\")\n"
          ],
          "name": "stderr"
        }
      ]
    },
    {
      "cell_type": "code",
      "metadata": {
        "id": "vMCQFA-FDDKB",
        "colab_type": "code",
        "colab": {}
      },
      "source": [
        "def get_Redshift_connection(): #redshift connect cursor 정보\n",
        "    host = \"grepp-data.cduaw970ssvt.ap-northeast-2.redshift.amazonaws.com\"\n",
        "    redshift_user = \"jysohn0825\"\n",
        "    redshift_pass = \"Jysohn08251!\"\n",
        "    port = 5439\n",
        "    dbname = \"dev\"\n",
        "    conn = psycopg2.connect(\"dbname={dbname} user={user} host={host} password={password} port={port}\".format(\n",
        "        dbname=dbname,\n",
        "        user=redshift_user,\n",
        "        password=redshift_pass,\n",
        "        host=host,\n",
        "        port=port\n",
        "    ))\n",
        "    conn.set_session(readonly=True, autocommit=True)\n",
        "    return conn.cursor()"
      ],
      "execution_count": 2,
      "outputs": []
    },
    {
      "cell_type": "code",
      "metadata": {
        "id": "RGYLtLKtHHPC",
        "colab_type": "code",
        "colab": {}
      },
      "source": [
        "cur = get_Redshift_connection() #cursor object를 만들고 아래의 sql을 날림\n",
        "\n",
        "sql = \"SELECT * FROM raw_data.user_session_channel LIMIT 10;\"\n",
        "cur.execute(sql)\n",
        "rows = cur.fetchall() #sql의 결과를 rows에 담음"
      ],
      "execution_count": 3,
      "outputs": []
    },
    {
      "cell_type": "code",
      "metadata": {
        "id": "wqsSWrgJIvOJ",
        "colab_type": "code",
        "colab": {
          "base_uri": "https://localhost:8080/",
          "height": 193
        },
        "outputId": "efcdce52-b21e-4ce5-f1f9-416134d45c1e"
      },
      "source": [
        "for r in rows:\n",
        "  print(r)"
      ],
      "execution_count": 4,
      "outputs": [
        {
          "output_type": "stream",
          "text": [
            "(184, 'c41dd99a69df04044aa4e33ece9c9249', 'Naver')\n",
            "(80, 'fdc0eb412a84fa549afe68373d9087e9', 'Organic')\n",
            "(251, '0a54b19a13b6712dc04d1b49215423d8', 'Facebook')\n",
            "(264, 'a914ecef9c12ffdb9bede64bb703d877', 'Google')\n",
            "(744, '05ae14d7ae387b93370d142d82220f1b', 'Facebook')\n",
            "(229, 'eddeb82df22554fa67c641e3f8a25566', 'Google')\n",
            "(265, '4c4ea5258ef3fb3fb1fc48fee9b4408c', 'Naver')\n",
            "(80, '8ae1da0fe37c98412768453f82490da2', 'Organic')\n",
            "(45, '60131a2a3f223dc8f4753bcc5771660c', 'Youtube')\n",
            "(198, '90f4760fcc9b69c13da7368c5c2917f3', 'Facebook')\n"
          ],
          "name": "stdout"
        }
      ]
    },
    {
      "cell_type": "code",
      "metadata": {
        "id": "pfeYYVoRKwbA",
        "colab_type": "code",
        "colab": {}
      },
      "source": [
        "import pandas.io.sql as sqlio #위의 방법을 pandas로 부르는 법"
      ],
      "execution_count": 5,
      "outputs": []
    },
    {
      "cell_type": "code",
      "metadata": {
        "id": "vSrgRV65K7xb",
        "colab_type": "code",
        "colab": {
          "base_uri": "https://localhost:8080/",
          "height": 169
        },
        "outputId": "21f7e329-e27b-4c7c-9835-260d3dcade7e"
      },
      "source": [
        "df = sqlio.read_sql_query(sql,conn)"
      ],
      "execution_count": 6,
      "outputs": [
        {
          "output_type": "error",
          "ename": "NameError",
          "evalue": "ignored",
          "traceback": [
            "\u001b[0;31m---------------------------------------------------------------------------\u001b[0m",
            "\u001b[0;31mNameError\u001b[0m                                 Traceback (most recent call last)",
            "\u001b[0;32m<ipython-input-6-11749990a46a>\u001b[0m in \u001b[0;36m<module>\u001b[0;34m()\u001b[0m\n\u001b[0;32m----> 1\u001b[0;31m \u001b[0mdf\u001b[0m \u001b[0;34m=\u001b[0m \u001b[0msqlio\u001b[0m\u001b[0;34m.\u001b[0m\u001b[0mread_sql_query\u001b[0m\u001b[0;34m(\u001b[0m\u001b[0msql\u001b[0m\u001b[0;34m,\u001b[0m\u001b[0mconn\u001b[0m\u001b[0;34m)\u001b[0m\u001b[0;34m\u001b[0m\u001b[0;34m\u001b[0m\u001b[0m\n\u001b[0m",
            "\u001b[0;31mNameError\u001b[0m: name 'conn' is not defined"
          ]
        }
      ]
    },
    {
      "cell_type": "code",
      "metadata": {
        "id": "F0IUfKh4LCNX",
        "colab_type": "code",
        "colab": {}
      },
      "source": [
        "df.head()"
      ],
      "execution_count": null,
      "outputs": []
    }
  ]
}